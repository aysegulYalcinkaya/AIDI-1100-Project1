{
  "nbformat": 4,
  "nbformat_minor": 0,
  "metadata": {
    "colab": {
      "provenance": [],
      "authorship_tag": "ABX9TyNhdrSPupw3nI8Ev8ubNLDM",
      "include_colab_link": true
    },
    "kernelspec": {
      "name": "python3",
      "display_name": "Python 3"
    },
    "language_info": {
      "name": "python"
    }
  },
  "cells": [
    {
      "cell_type": "markdown",
      "metadata": {
        "id": "view-in-github",
        "colab_type": "text"
      },
      "source": [
        "<a href=\"https://colab.research.google.com/github/aysegulYalcinkaya/AIDI-1100-Project1/blob/main/bookstore_scrap.ipynb\" target=\"_parent\"><img src=\"https://colab.research.google.com/assets/colab-badge.svg\" alt=\"Open In Colab\"/></a>"
      ]
    },
    {
      "cell_type": "code",
      "source": [
        "from requests.models import HTTPError\n",
        "from requests.exceptions import ConnectTimeout\n",
        "import requests\n",
        "from bs4 import BeautifulSoup\n",
        "import sqlite3"
      ],
      "metadata": {
        "id": "nNSboGGb1910"
      },
      "execution_count": 3,
      "outputs": []
    },
    {
      "cell_type": "code",
      "source": [
        "def create_database():\n",
        "  conn = sqlite3.connect('bookstore.db')\n",
        " \n",
        "  conn.execute('''\n",
        "  CREATE TABLE books_scraped (\n",
        "    id INTEGER PRIMARY KEY AUTOINCREMENT NOT NULL,\n",
        "    Title NVARCHAR NOT NULL ,\n",
        "    Price REAL NOT NULL \n",
        "  );''')\n",
        "  \n",
        "  conn.commit()\n",
        "  \n",
        "  print(\"books_scraped table created\");\n",
        "  "
      ],
      "metadata": {
        "id": "2HIz2Mxo1Sbg"
      },
      "execution_count": 4,
      "outputs": []
    },
    {
      "cell_type": "code",
      "source": [
        "def insert_book(conn,book):\n",
        "  sql='INSERT INTO books_scraped (title,price) VALUES(?,?)'\n",
        "  cur = conn.cursor()\n",
        "  cur.execute(sql, book)\n",
        "  conn.commit()\n",
        "  return cur.lastrowid"
      ],
      "metadata": {
        "id": "YJ6Vkamu2Sfs"
      },
      "execution_count": 17,
      "outputs": []
    },
    {
      "cell_type": "code",
      "execution_count": 26,
      "metadata": {
        "id": "EJkQtBzIqqbd"
      },
      "outputs": [],
      "source": [
        "def getPage(page_number):\n",
        "  try:\n",
        "    url = \"https://books.toscrape.com/catalogue/page-\"+str(page_number)+\".html\"\n",
        "    payload={}\n",
        "    files={}\n",
        "    headers = {}\n",
        "\n",
        "    response = requests.request(\"GET\", url, headers=headers, data=payload, files=files)\n",
        "    response.encoding='utf-8'\n",
        "    return response.text\n",
        "  except ConnectionError:\n",
        "    print(\"Connection error occured\")\n",
        "  except (ConnectTimeout, TimeoutError) as timeout:\n",
        "    print(\"Connection timeout\")\n",
        "  except HTTPError:\n",
        "    print(\"HTTP error occurred\")\n",
        " "
      ]
    },
    {
      "cell_type": "code",
      "source": [
        "create_database()"
      ],
      "metadata": {
        "colab": {
          "base_uri": "https://localhost:8080/"
        },
        "id": "pvbPKCmW33dh",
        "outputId": "8496efb8-3621-410b-9185-4139390b9bcb"
      },
      "execution_count": 35,
      "outputs": [
        {
          "output_type": "stream",
          "name": "stdout",
          "text": [
            "books_scraped table created\n"
          ]
        }
      ]
    },
    {
      "cell_type": "code",
      "source": [
        "from sqlite3.dbapi2 import OperationalError\n",
        "page=1\n",
        "next=None\n",
        "try:\n",
        "  conn = sqlite3.connect('bookstore.db')\n",
        "\n",
        "  while True:\n",
        "    html=getPage(page)\n",
        "  \n",
        "    if html!=None:\n",
        "      soup = BeautifulSoup(html, \"lxml\")\n",
        "      next = soup.find(\"li\",class_=\"next\")\n",
        "      list=soup.find(\"ol\", class_=\"row\")\n",
        "      books=list.find_all(\"li\")\n",
        "\n",
        "\n",
        "      for book in books:\n",
        "        if book.find(\"h3\").find(\"a\"):\n",
        "          title=book.find(\"h3\").find(\"a\")[\"title\"]\n",
        "        else:\n",
        "          title=\"\"\n",
        "        if book.find(\"div\",class_=\"product_price\").find(\"p\",class_=\"price_color\"):\n",
        "          price=book.find(\"div\",class_=\"product_price\").find(\"p\",class_=\"price_color\").get_text()\n",
        "        else:\n",
        "          price=None\n",
        "      \n",
        "        insert_book(conn,(title,price))\n",
        "      \n",
        "      page+=1\n",
        "\n",
        "      if not next:\n",
        "        break\n",
        "    else:\n",
        "      break\n",
        "\n",
        "  conn.close()\n",
        "except OperationalError as ex:\n",
        "  print(ex)\n",
        "  "
      ],
      "metadata": {
        "id": "5oQlzRehsu2U"
      },
      "execution_count": 36,
      "outputs": []
    },
    {
      "cell_type": "code",
      "source": [
        "conn = sqlite3.connect('bookstore.db')\n",
        "cursor = conn.cursor()\n",
        "data=cursor.execute('''SELECT * FROM books_scraped''')\n",
        "for row in data:\n",
        "  pass\n",
        "  #print(row)\n",
        "\n",
        "import pandas as pd\n",
        "\n",
        "df = pd.read_sql_query('''SELECT * FROM books_scraped''',conn)\n",
        "df[\"date\"]=\"2023-04-06\"\n",
        "df.to_csv(\"books.csv\",index=False)\n",
        "# Closing the connection\n",
        "conn.close()"
      ],
      "metadata": {
        "id": "2lsonZUNBx7I"
      },
      "execution_count": 45,
      "outputs": []
    }
  ]
}