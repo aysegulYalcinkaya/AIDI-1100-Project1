{
  "nbformat": 4,
  "nbformat_minor": 0,
  "metadata": {
    "colab": {
      "provenance": [],
      "authorship_tag": "ABX9TyO/YBHGGzpbcP0uuMYZrS7V",
      "include_colab_link": true
    },
    "kernelspec": {
      "name": "python3",
      "display_name": "Python 3"
    },
    "language_info": {
      "name": "python"
    }
  },
  "cells": [
    {
      "cell_type": "markdown",
      "metadata": {
        "id": "view-in-github",
        "colab_type": "text"
      },
      "source": [
        "<a href=\"https://colab.research.google.com/github/aysegulYalcinkaya/AIDI-1100-Project1/blob/main/store_app.ipynb\" target=\"_parent\"><img src=\"https://colab.research.google.com/assets/colab-badge.svg\" alt=\"Open In Colab\"/></a>"
      ]
    },
    {
      "cell_type": "code",
      "source": [
        "import sqlite3\n"
      ],
      "metadata": {
        "id": "aYbnkiyrlkd7"
      },
      "execution_count": 1,
      "outputs": []
    },
    {
      "cell_type": "code",
      "source": [
        "class Item:\n",
        "  def __init__(self,item_name,price,stock):\n",
        "    self.item_name=item_name\n",
        "    self.price=price\n",
        "    self.stock=stock"
      ],
      "metadata": {
        "id": "xnw5__hEN5Uv"
      },
      "execution_count": 2,
      "outputs": []
    },
    {
      "cell_type": "code",
      "source": [
        "def create_connection(db_file):\n",
        "    \"\"\" create a database connection to the SQLite database\n",
        "        specified by db_file\n",
        "    :param db_file: database file\n",
        "    :return: Connection object or None\n",
        "    \"\"\"\n",
        "    conn = None\n",
        "    try:\n",
        "        conn = sqlite3.connect(db_file)\n",
        "        return conn\n",
        "    except sqlite3.Error as e:\n",
        "        print(e)\n",
        "\n",
        "    return conn"
      ],
      "metadata": {
        "id": "Gbun7wPprHeu"
      },
      "execution_count": 3,
      "outputs": []
    },
    {
      "cell_type": "code",
      "source": [
        "\n",
        "def insert_item_db(item):\n",
        "  connection=create_connection(\"store.db\")\n",
        "  cur = connection.cursor()\n",
        "  sql = \"insert into items(ItemName,Price,Stock) values(?,?,?)\"\n",
        "  cur.execute(sql,(item.item_name,item.price,item.stock))\n",
        "  connection.commit()\n",
        "  cur.close()\n",
        "  connection.close()\n",
        "  return True\n",
        "\n",
        "def update_item_db(item):\n",
        "  connection=create_connection(\"store.db\")\n",
        "  cur = connection.cursor()\n",
        "  sql = \"update items set Price=?,Stock=? where ItemName=?\"\n",
        "  cur.execute(sql,(item.price,item.stock,item.item_name))\n",
        "  connection.commit()\n",
        "  cur.close()\n",
        "  connection.close()\n",
        "  return True\n",
        "\n",
        "def delete_item_db():\n",
        "  connection=create_connection(\"store.db\")\n",
        "  cur = connection.cursor()\n",
        "  sql = \"delete from items\"\n",
        "  cur.execute(sql)\n",
        "  connection.commit()\n",
        "  cur.close()\n",
        "  connection.close()\n",
        "  return True\n",
        "\n",
        "def get_items():\n",
        "  connection=create_connection(\"store.db\")\n",
        "  cur = connection.cursor()\n",
        "  sql = \"select * from items\"\n",
        "  cur.execute(sql)\n",
        "  rows=cur.fetchall()\n",
        "  cur.close()\n",
        "  connection.close()\n",
        "  return rows"
      ],
      "metadata": {
        "id": "-Qgr792Xr2Vi"
      },
      "execution_count": 4,
      "outputs": []
    },
    {
      "cell_type": "code",
      "source": [
        "def init_items():\n",
        "  store_items=dict();\n",
        "  items=get_items()\n",
        "  for item in items:\n",
        "    store_items[item[0]]=Item(item[0],item[1],item[2])\n",
        "  return store_items"
      ],
      "metadata": {
        "id": "B9KHC_XoU_3k"
      },
      "execution_count": 6,
      "outputs": []
    },
    {
      "cell_type": "code",
      "source": [
        "def add_item():\n",
        "  item_name=input(\"Enter item name: \")\n",
        "  if search_item(item_name):\n",
        "    print(item_name,\" is already in store!\")\n",
        "  else:\n",
        "    item_price=float(input(\"Price: \"))\n",
        "    item_stock=int(input(\"Stock: \"))\n",
        "\n",
        "    item=Item(item_name,item_price,item_stock)\n",
        "\n",
        "    if insert_item_db(item):\n",
        "      store_items[item_name]=item\n"
      ],
      "metadata": {
        "id": "txmBhCUYdTew"
      },
      "execution_count": 7,
      "outputs": []
    },
    {
      "cell_type": "code",
      "source": [
        "def update_item():\n",
        "  item_name=input(\"Enter Item Name: \")\n",
        "  item=search_item(item_name)\n",
        "  if item:\n",
        "    price=float(input(\"New Price: \"))\n",
        "    stock=int(input(\"New Stock: \"))\n",
        "    item.price=price\n",
        "    item.stock=stock\n",
        "    update_item_db(item)\n",
        "    store_items[item_name]=item\n"
      ],
      "metadata": {
        "id": "SCbd7TTc-M--"
      },
      "execution_count": 12,
      "outputs": []
    },
    {
      "cell_type": "code",
      "source": [
        "def display_inventory():\n",
        "\n",
        "  for index in store_items:\n",
        "    item=store_items[index]\n",
        "    print(item.item_name)"
      ],
      "metadata": {
        "id": "NV2QywtymZFQ"
      },
      "execution_count": 8,
      "outputs": []
    },
    {
      "cell_type": "code",
      "source": [
        "def search_item(item_name):\n",
        "  return None"
      ],
      "metadata": {
        "id": "PSVi2oVvexfK"
      },
      "execution_count": 9,
      "outputs": []
    },
    {
      "cell_type": "code",
      "source": [
        "def print_menu():\n",
        "  print(\"|---------- GROUP X STORE --------------|\")\n",
        "  print(\"|     1 ADD ITEM                        |\")\n",
        "  print(\"|     2 UPDATE ITEM                     |\")\n",
        "  print(\"|     3 SEARCH ITEM                     |\")\n",
        "  print(\"|     4 REMOVE ITEM                     |\")\n",
        "  print(\"|     5 DISPLAY INVENTORY               |\")\n",
        "  print(\"|     X EXIT                            |\")\n",
        "  print(\"|---------------------------------------|\")\n"
      ],
      "metadata": {
        "id": "PnNPfKTIOQ9Q"
      },
      "execution_count": 10,
      "outputs": []
    },
    {
      "cell_type": "code",
      "source": [
        "store_items=init_items()\n",
        "print_menu()\n",
        "while True:\n",
        "  choice=input(\"Select menu option: \")\n",
        "  if choice==\"1\":\n",
        "    add_item()\n",
        "  elif choice==\"2\":\n",
        "    pass\n",
        "  elif choice==\"3\":\n",
        "    pass\n",
        "  elif choice==\"4\":\n",
        "    pass\n",
        "  elif choice==\"5\":\n",
        "    display_inventory()\n",
        "  elif choice.lower()==\"x\":\n",
        "    break\n",
        "  else: \n",
        "    print(\"INVALID INPUT!\")\n",
        "  print_menu()"
      ],
      "metadata": {
        "id": "byb-YAVyPPLo",
        "colab": {
          "base_uri": "https://localhost:8080/"
        },
        "outputId": "7d7cd81e-12dc-442b-d4c8-cf2d736bb5b7"
      },
      "execution_count": 11,
      "outputs": [
        {
          "name": "stdout",
          "output_type": "stream",
          "text": [
            "|---------- GROUP X STORE --------------|\n",
            "|     1 ADD ITEM                        |\n",
            "|     2 UPDATE ITEM                     |\n",
            "|     3 SEARCH ITEM                     |\n",
            "|     4 REMOVE ITEM                     |\n",
            "|     5 DISPLAY INVENTORY               |\n",
            "|     X EXIT                            |\n",
            "|---------------------------------------|\n",
            "Select menu option: 1\n",
            "Enter item name: Samsung Galaxy S23 Ultra 5G\n",
            "Price: 1650\n",
            "Stock: 6\n",
            "|---------- GROUP X STORE --------------|\n",
            "|     1 ADD ITEM                        |\n",
            "|     2 UPDATE ITEM                     |\n",
            "|     3 SEARCH ITEM                     |\n",
            "|     4 REMOVE ITEM                     |\n",
            "|     5 DISPLAY INVENTORY               |\n",
            "|     X EXIT                            |\n",
            "|---------------------------------------|\n",
            "Select menu option: 1\n",
            "Enter item name: Apple iPhone 12, 64GB, Blue \n",
            "Price: 580\n",
            "Stock: 2\n",
            "|---------- GROUP X STORE --------------|\n",
            "|     1 ADD ITEM                        |\n",
            "|     2 UPDATE ITEM                     |\n",
            "|     3 SEARCH ITEM                     |\n",
            "|     4 REMOVE ITEM                     |\n",
            "|     5 DISPLAY INVENTORY               |\n",
            "|     X EXIT                            |\n",
            "|---------------------------------------|\n",
            "Select menu option: 5\n",
            "Samsung Galaxy S23 Ultra 5G\n",
            "Apple iPhone 12, 64GB, Blue \n",
            "|---------- GROUP X STORE --------------|\n",
            "|     1 ADD ITEM                        |\n",
            "|     2 UPDATE ITEM                     |\n",
            "|     3 SEARCH ITEM                     |\n",
            "|     4 REMOVE ITEM                     |\n",
            "|     5 DISPLAY INVENTORY               |\n",
            "|     X EXIT                            |\n",
            "|---------------------------------------|\n",
            "Select menu option: x\n"
          ]
        }
      ]
    }
  ]
}