{
  "nbformat": 4,
  "nbformat_minor": 0,
  "metadata": {
    "colab": {
      "provenance": [],
      "authorship_tag": "ABX9TyOGaHS10fbwqTiyExx9Y8+J",
      "include_colab_link": true
    },
    "kernelspec": {
      "name": "python3",
      "display_name": "Python 3"
    },
    "language_info": {
      "name": "python"
    },
    "widgets": {
      "application/vnd.jupyter.widget-state+json": {
        "61d941eb9fe842d699e54722f496616c": {
          "model_module": "@jupyter-widgets/controls",
          "model_name": "FloatTextModel",
          "model_module_version": "1.5.0",
          "state": {
            "_dom_classes": [],
            "_model_module": "@jupyter-widgets/controls",
            "_model_module_version": "1.5.0",
            "_model_name": "FloatTextModel",
            "_view_count": null,
            "_view_module": "@jupyter-widgets/controls",
            "_view_module_version": "1.5.0",
            "_view_name": "FloatTextView",
            "continuous_update": false,
            "description": "New Price",
            "description_tooltip": null,
            "disabled": false,
            "layout": "IPY_MODEL_86ca6e872c9b4cf4aa442460f4f4843d",
            "step": null,
            "style": "IPY_MODEL_d9d03e42a30c43c18304073d6dd288ca",
            "value": 250.49
          }
        },
        "86ca6e872c9b4cf4aa442460f4f4843d": {
          "model_module": "@jupyter-widgets/base",
          "model_name": "LayoutModel",
          "model_module_version": "1.2.0",
          "state": {
            "_model_module": "@jupyter-widgets/base",
            "_model_module_version": "1.2.0",
            "_model_name": "LayoutModel",
            "_view_count": null,
            "_view_module": "@jupyter-widgets/base",
            "_view_module_version": "1.2.0",
            "_view_name": "LayoutView",
            "align_content": null,
            "align_items": null,
            "align_self": null,
            "border": null,
            "bottom": null,
            "display": null,
            "flex": null,
            "flex_flow": null,
            "grid_area": null,
            "grid_auto_columns": null,
            "grid_auto_flow": null,
            "grid_auto_rows": null,
            "grid_column": null,
            "grid_gap": null,
            "grid_row": null,
            "grid_template_areas": null,
            "grid_template_columns": null,
            "grid_template_rows": null,
            "height": null,
            "justify_content": null,
            "justify_items": null,
            "left": null,
            "margin": null,
            "max_height": null,
            "max_width": null,
            "min_height": null,
            "min_width": null,
            "object_fit": null,
            "object_position": null,
            "order": null,
            "overflow": null,
            "overflow_x": null,
            "overflow_y": null,
            "padding": null,
            "right": null,
            "top": null,
            "visibility": null,
            "width": null
          }
        },
        "d9d03e42a30c43c18304073d6dd288ca": {
          "model_module": "@jupyter-widgets/controls",
          "model_name": "DescriptionStyleModel",
          "model_module_version": "1.5.0",
          "state": {
            "_model_module": "@jupyter-widgets/controls",
            "_model_module_version": "1.5.0",
            "_model_name": "DescriptionStyleModel",
            "_view_count": null,
            "_view_module": "@jupyter-widgets/base",
            "_view_module_version": "1.2.0",
            "_view_name": "StyleView",
            "description_width": ""
          }
        }
      }
    }
  },
  "cells": [
    {
      "cell_type": "markdown",
      "metadata": {
        "id": "view-in-github",
        "colab_type": "text"
      },
      "source": [
        "<a href=\"https://colab.research.google.com/github/aysegulYalcinkaya/AIDI-1100-Project1/blob/main/store_app_v2.ipynb\" target=\"_parent\"><img src=\"https://colab.research.google.com/assets/colab-badge.svg\" alt=\"Open In Colab\"/></a>"
      ]
    },
    {
      "cell_type": "code",
      "source": [
        "from ipywidgets import widgets"
      ],
      "metadata": {
        "id": "yrip-iSTzzjt"
      },
      "execution_count": 31,
      "outputs": []
    },
    {
      "cell_type": "code",
      "source": [
        "# Class definition of store item\n",
        "# Store item object have attributes item_name, price, and stock\n",
        "class Item:\n",
        "  def __init__(self,item_name,price,stock):\n",
        "    self.item_name=item_name\n",
        "    self.price=price\n",
        "    self.stock=stock"
      ],
      "metadata": {
        "id": "xnw5__hEN5Uv"
      },
      "execution_count": 1,
      "outputs": []
    },
    {
      "cell_type": "code",
      "source": [
        "# Initialize store items when program runs\n",
        "def init_items():\n",
        "  store_items={\"Samsung Galaxy A14 5G Black 64GB\":Item(\"Samsung Galaxy A14 5G Black 64GB\",329.99,12)};\n",
        "  store_items[\"Samsung Galaxy S23 5G Black 128GB\"]=Item(\"Samsung Galaxy S23 5G Black 128GB\",1099.99,2)\n",
        "  return store_items"
      ],
      "metadata": {
        "id": "B9KHC_XoU_3k"
      },
      "execution_count": 2,
      "outputs": []
    },
    {
      "cell_type": "code",
      "source": [
        "# This function is used to add item to store item dictinary\n",
        "def add_item():\n",
        "  # Get item name from user\n",
        "  item_name=input(\"Enter item name: \")\n",
        "\n",
        "  # Check if item already exists in dictionary\n",
        "  if get_item(item_name):\n",
        "    print(item_name,\" is already in store!\")\n",
        "  else:\n",
        "    # Get price and stock values from user\n",
        "    item_price=float(input(\"Price: \"))\n",
        "    item_stock=int(input(\"Stock: \"))\n",
        "    # Create new instance of Item object\n",
        "    item=Item(item_name,item_price,item_stock)\n",
        "    # Add item into dictionary\n",
        "    store_items[item_name]=item\n"
      ],
      "metadata": {
        "id": "txmBhCUYdTew"
      },
      "execution_count": 19,
      "outputs": []
    },
    {
      "cell_type": "code",
      "source": [
        "# This function is used to update the given item\n",
        "def update_item():\n",
        "  # Get item name from user\n",
        "  item_name=input(\"Enter Item Name: \")\n",
        "  #Get item object from dictionary for given item name\n",
        "  item=get_item(item_name)\n",
        "  # if item is found in store, get new price and new stock values from user\n",
        "  if item:\n",
        "    price=float(input(\"New Price: \"))\n",
        "    stock=int(input(\"New Stock: \"))\n",
        "    # update item object\n",
        "    item.price=price\n",
        "    item.stock=stock\n",
        "    return True\n",
        "  else:\n",
        "    print(item_name,\" not found in the store inventory\")\n",
        "    return False\n"
      ],
      "metadata": {
        "id": "SCbd7TTc-M--"
      },
      "execution_count": 32,
      "outputs": []
    },
    {
      "cell_type": "code",
      "source": [],
      "metadata": {
        "id": "2wIhqrpp1j30"
      },
      "execution_count": null,
      "outputs": []
    },
    {
      "cell_type": "code",
      "source": [
        "# This function is used to search item and display item name, price and stock\n",
        "def search_item():\n",
        "  # Get item name from user\n",
        "  item_name=input(\"Enter Item Name: \")\n",
        "  item=get_item(item_name)\n",
        "  if item:\n",
        "    print_item(item)\n",
        "  else:\n",
        "    print(item_name, \" not found in the store inventory\")"
      ],
      "metadata": {
        "id": "giRLpp0m8Lpt"
      },
      "execution_count": 5,
      "outputs": []
    },
    {
      "cell_type": "code",
      "source": [
        "# Thşs function displays all items in the store inventory\n",
        "def display_inventory():\n",
        "\n",
        "  for index in store_items:\n",
        "    item=store_items[index]\n",
        "    print_item(item)"
      ],
      "metadata": {
        "id": "NV2QywtymZFQ"
      },
      "execution_count": 6,
      "outputs": []
    },
    {
      "cell_type": "code",
      "source": [
        "def get_item(item_name):\n",
        "  \n",
        "  if (item_name in store_items):\n",
        "    return store_items[item_name]\n",
        "  else:\n",
        "    return None"
      ],
      "metadata": {
        "id": "PSVi2oVvexfK"
      },
      "execution_count": 17,
      "outputs": []
    },
    {
      "cell_type": "code",
      "source": [
        "def print_item(item):\n",
        "    print(\"Item Name: \",item.item_name)\n",
        "    print(\"Price: \",item.price)\n",
        "    print(\"Stock: \",item.stock)"
      ],
      "metadata": {
        "id": "r9gXKX668wq3"
      },
      "execution_count": 11,
      "outputs": []
    },
    {
      "cell_type": "code",
      "source": [
        "def print_menu():\n",
        "  print(\"|---------- GROUP X STORE --------------|\")\n",
        "  print(\"|     1 ADD ITEM                        |\")\n",
        "  print(\"|     2 UPDATE ITEM                     |\")\n",
        "  print(\"|     3 SEARCH ITEM                     |\")\n",
        "  print(\"|     4 REMOVE ITEM                     |\")\n",
        "  print(\"|     5 DISPLAY INVENTORY               |\")\n",
        "  print(\"|     X EXIT                            |\")\n",
        "  print(\"|---------------------------------------|\")\n"
      ],
      "metadata": {
        "id": "PnNPfKTIOQ9Q"
      },
      "execution_count": 9,
      "outputs": []
    },
    {
      "cell_type": "code",
      "source": [
        "store_items=init_items()\n",
        "\n",
        "print_menu()\n",
        "while True:\n",
        "  try:\n",
        "    choice=input(\"Select menu option: \")\n",
        "    if choice==\"1\":\n",
        "      add_item()\n",
        "      print(\"Item added to store inventory\")\n",
        "    elif choice==\"2\":\n",
        "      result=update_item()\n",
        "      if result:\n",
        "        print(\"Item is updated\")\n",
        "    elif choice==\"3\":\n",
        "      search_item()\n",
        "    elif choice==\"4\":\n",
        "      pass\n",
        "    elif choice==\"5\":\n",
        "      display_inventory()\n",
        "    elif choice.lower()==\"x\":\n",
        "      break\n",
        "    else: \n",
        "      print(\"INVALID INPUT!\")\n",
        "    print_menu()\n",
        "  except ValueError:\n",
        "    print(\"Invalid value entered\")"
      ],
      "metadata": {
        "id": "byb-YAVyPPLo",
        "colab": {
          "base_uri": "https://localhost:8080/",
          "height": 934,
          "referenced_widgets": [
            "61d941eb9fe842d699e54722f496616c",
            "86ca6e872c9b4cf4aa442460f4f4843d",
            "d9d03e42a30c43c18304073d6dd288ca"
          ]
        },
        "outputId": "11f1d8b5-11e7-47f3-bb5b-cd0c34e7ddfc"
      },
      "execution_count": 33,
      "outputs": [
        {
          "name": "stdout",
          "output_type": "stream",
          "text": [
            "|---------- GROUP X STORE --------------|\n",
            "|     1 ADD ITEM                        |\n",
            "|     2 UPDATE ITEM                     |\n",
            "|     3 SEARCH ITEM                     |\n",
            "|     4 REMOVE ITEM                     |\n",
            "|     5 DISPLAY INVENTORY               |\n",
            "|     X EXIT                            |\n",
            "|---------------------------------------|\n",
            "Select menu option: 5\n",
            "Item Name:  Samsung Galaxy A14 5G Black 64GB\n",
            "Price:  329.99\n",
            "Stock:  12\n",
            "Item Name:  Samsung Galaxy S23 5G Black 128GB\n",
            "Price:  1099.99\n",
            "Stock:  2\n",
            "|---------- GROUP X STORE --------------|\n",
            "|     1 ADD ITEM                        |\n",
            "|     2 UPDATE ITEM                     |\n",
            "|     3 SEARCH ITEM                     |\n",
            "|     4 REMOVE ITEM                     |\n",
            "|     5 DISPLAY INVENTORY               |\n",
            "|     X EXIT                            |\n",
            "|---------------------------------------|\n",
            "Select menu option: 2\n",
            "Enter Item Name: Samsung Galaxy A14 5G Black 64GB\n"
          ]
        },
        {
          "output_type": "display_data",
          "data": {
            "text/plain": [
              "FloatText(value=329.99, description='New Price')"
            ],
            "application/vnd.jupyter.widget-view+json": {
              "version_major": 2,
              "version_minor": 0,
              "model_id": "61d941eb9fe842d699e54722f496616c"
            }
          },
          "metadata": {}
        },
        {
          "name": "stdout",
          "output_type": "stream",
          "text": [
            "New Stock: 5\n",
            "Item is updated\n",
            "|---------- GROUP X STORE --------------|\n",
            "|     1 ADD ITEM                        |\n",
            "|     2 UPDATE ITEM                     |\n",
            "|     3 SEARCH ITEM                     |\n",
            "|     4 REMOVE ITEM                     |\n",
            "|     5 DISPLAY INVENTORY               |\n",
            "|     X EXIT                            |\n",
            "|---------------------------------------|\n",
            "Select menu option: 5\n",
            "Item Name:  Samsung Galaxy A14 5G Black 64GB\n",
            "Price:  329.99\n",
            "Stock:  5\n",
            "Item Name:  Samsung Galaxy S23 5G Black 128GB\n",
            "Price:  1099.99\n",
            "Stock:  2\n",
            "|---------- GROUP X STORE --------------|\n",
            "|     1 ADD ITEM                        |\n",
            "|     2 UPDATE ITEM                     |\n",
            "|     3 SEARCH ITEM                     |\n",
            "|     4 REMOVE ITEM                     |\n",
            "|     5 DISPLAY INVENTORY               |\n",
            "|     X EXIT                            |\n",
            "|---------------------------------------|\n",
            "Select menu option: x\n"
          ]
        }
      ]
    }
  ]
}