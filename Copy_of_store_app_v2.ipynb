{
  "cells": [
    {
      "cell_type": "markdown",
      "metadata": {
        "id": "view-in-github",
        "colab_type": "text"
      },
      "source": [
        "<a href=\"https://colab.research.google.com/github/aysegulYalcinkaya/AIDI-1100-Project1/blob/main/Copy_of_store_app_v2.ipynb\" target=\"_parent\"><img src=\"https://colab.research.google.com/assets/colab-badge.svg\" alt=\"Open In Colab\"/></a>"
      ]
    },
    {
      "cell_type": "markdown",
      "metadata": {
        "id": "5Hu9DoPZHxhn"
      },
      "source": [
        "# **AIDI 1100 INTRODUCTION TO AI DEVELOPMENT**\n",
        "\n",
        "ASSIGNMENT #1\n",
        "\n",
        "Submitted by: Group #6\n",
        "* Gurnish Kaur-100901544\n",
        "* David Ajibola\n",
        "* Geetha Murugan - 100890042\n",
        "* Aysegul Yalcinkaya - 100841003\n",
        "\n",
        "\n",
        "\n"
      ]
    },
    {
      "cell_type": "markdown",
      "metadata": {
        "id": "hy_5fqDb71U1"
      },
      "source": [
        "Class Definition of storing items"
      ]
    },
    {
      "cell_type": "code",
      "execution_count": 1,
      "metadata": {
        "id": "xnw5__hEN5Uv"
      },
      "outputs": [],
      "source": [
        "# Class definition of store item\n",
        "# Store item object have attributes item_name, price, and stock\n",
        "# Created by Aysegul Yalcinkaya - 100841003 - 02/18/2023 11:00 AM\n",
        "class Item:\n",
        "  def __init__(self,item_name,price,stock):\n",
        "    self.item_name=item_name\n",
        "    self.price=price\n",
        "    self.stock=stock"
      ]
    },
    {
      "cell_type": "markdown",
      "metadata": {
        "id": "3giC-DJC8DaE"
      },
      "source": [
        "Initialize few items into the store dictionary"
      ]
    },
    {
      "cell_type": "code",
      "execution_count": 2,
      "metadata": {
        "id": "B9KHC_XoU_3k"
      },
      "outputs": [],
      "source": [
        "# Initialize store items when program runs\n",
        "# Created by Aysegul Yalcinkaya - 100841003 - 02/18/2023 11:10 AM\n",
        "def init_items():\n",
        "  store_items={\"Samsung Galaxy A14 5G Black 64GB\":Item(\"Samsung Galaxy A14 5G Black 64GB\",349.99,12)};\n",
        "  store_items[\"Samsung Galaxy S23 5G Black 128GB\"]=Item(\"Samsung Galaxy S23 5G Black 128GB\",1099.99,2)\n",
        "  store_items[\"Samsung Galaxy Tab S6 Lite\"]=Item(\"Samsung Galaxy Tab S6 Lite\",329.99,8)\n",
        "  store_items[\"Apple 2023 MacBook Pro Laptop\"]=Item(\"Apple 2023 MacBook Pro Laptop\",2599.99,10)\n",
        "  store_items[\"HP DeskJet 2755e All-in-One Printer\"]=Item(\"HP DeskJet 2755e All-in-One Printer\",64.98,6)\n",
        "  store_items[\"Samsung T350 Series 22-Inch FHD 1080p Computer Monitor\"]=Item(\"Samsung T350 Series 22-Inch FHD 1080p Computer Monitor\",169.99,1)\n",
        "  store_items[\"Apple Watch SE (2nd Gen) \"]=Item(\"Apple Watch SE (2nd Gen) \",329.00,1)\n",
        "  store_items[\"Asus TUF Gaming H3 Wired Headset \"]=Item(\"Asus TUF Gaming H3 Wired Headset \",19.99,7)\n",
        "  store_items[\"Mini Projector, AKIYO\"]=Item(\"Mini Projector, AKIYO\",99.99,4)\n",
        "  store_items[\"Amazon Fire TV 75-inch Omni Series 4K UHD\"]=Item(\"Amazon Fire TV 75-inch Omni Series 4K UHD\",899.99,2)\n",
        "  return store_items"
      ]
    },
    {
      "cell_type": "markdown",
      "metadata": {
        "id": "ULosjB5X8Ofc"
      },
      "source": [
        "Get user input and add the item details into the dictionary"
      ]
    },
    {
      "cell_type": "code",
      "execution_count": 3,
      "metadata": {
        "id": "txmBhCUYdTew"
      },
      "outputs": [],
      "source": [
        "# This function is used to add item to store item dictinary\n",
        "# If user enters negative or 0 for item price and stock, ValueError will be raised\n",
        "# and item will not be added to store inventory\n",
        "# Created by Aysegul Yalcinkaya - 100841003 - 02/18/2023 11:30 AM\n",
        "def add_item():\n",
        "  # Get item name from user\n",
        "  item_name=input(\"Enter item name: \")\n",
        "\n",
        "  # Check if item already exists in dictionary\n",
        "  if get_item(item_name):\n",
        "    print(item_name,\" is already in store!\")\n",
        "  else:\n",
        "    # Get price and stock values from user\n",
        "    item_price=float(input(\"Price: \"))\n",
        "    item_stock=int(input(\"Stock: \"))\n",
        "    if (item_price<=0 or item_stock<=0):\n",
        "        raise ValueError\n",
        "    # Create new instance of Item object\n",
        "    item=Item(item_name,item_price,item_stock)\n",
        "    # Add item into dictionary\n",
        "    store_items[item_name]=item\n",
        "    return store_items\n"
      ]
    },
    {
      "cell_type": "markdown",
      "metadata": {
        "id": "XSEJOxRe8b4V"
      },
      "source": [
        "Get the user input and update the existing item price & stock details"
      ]
    },
    {
      "cell_type": "code",
      "execution_count": 4,
      "metadata": {
        "id": "SCbd7TTc-M--"
      },
      "outputs": [],
      "source": [
        "# This function is used to update the given item\n",
        "# Created by Aysegul Yalcinkaya - 100841003 - 02/18/2023 1:30 PM\n",
        "# If user enters negative or 0 for stock, ValueError will be raised\n",
        "# and item will not be updated\n",
        "def update_item():\n",
        "  # Get item name from user\n",
        "  item_name=input(\"Enter Item Name: \")\n",
        "  #Get item object from dictionary for given item name\n",
        "  item=get_item(item_name)\n",
        "  # if item is found in store, get new price and new stock values from user\n",
        "  if item:\n",
        "    stock=int(input(\"New Stock: \"))\n",
        "    if (stock<=0):\n",
        "        raise ValueError\n",
        "    # update item object\n",
        "    item.stock=stock\n",
        "    return True\n",
        "  else:\n",
        "    print(item_name,\" not found in the store inventory\")\n",
        "    return False\n"
      ]
    },
    {
      "cell_type": "markdown",
      "metadata": {
        "id": "ACgSW32U8nRH"
      },
      "source": [
        "This function perform the search based on the item name and return the results"
      ]
    },
    {
      "cell_type": "code",
      "execution_count": 5,
      "metadata": {
        "id": "giRLpp0m8Lpt"
      },
      "outputs": [],
      "source": [
        "# This function is used to search item, display item name, price and stock\n",
        "# Created by Gurnish Kaur-100901544-02/19/2023 2:00PM\n",
        "def search_item():\n",
        "  # user will enter the name of the item\n",
        "  item_name=input(\"Enter Item Name: \")\n",
        "  item=get_item(item_name)\n",
        "  if item:\n",
        "    print_item(item)\n",
        "  else:\n",
        "    print(item_name, \" not found in the store inventory\")"
      ]
    },
    {
      "cell_type": "markdown",
      "metadata": {
        "id": "j936PDYz8yAX"
      },
      "source": [
        "This function display all items the inventory"
      ]
    },
    {
      "cell_type": "code",
      "execution_count": 6,
      "metadata": {
        "id": "NV2QywtymZFQ"
      },
      "outputs": [],
      "source": [
        "# This function displays all items in the store inventory\n",
        "# Created by David Ajibola-100735374-02/19/2023 2:00 PM\n",
        "def display_inventory():\n",
        "  print (\"---- PYTHON ELECTRONICS ----\")\n",
        "  if len(store_items)>0:\n",
        "    keys = list(store_items.keys())\n",
        "    keys.sort()\n",
        "    sorted_items = {i: store_items[i] for i in keys}  \n",
        "    for index in sorted_items:\n",
        "      item=sorted_items[index]\n",
        "      print_item(item)\n",
        "  else:\n",
        "    print(\"No items in the store inventory\")"
      ]
    },
    {
      "cell_type": "markdown",
      "metadata": {
        "id": "6mo73BEtG84S"
      },
      "source": [
        "This function is used to retrive the existing item name"
      ]
    },
    {
      "cell_type": "code",
      "execution_count": 7,
      "metadata": {
        "id": "PSVi2oVvexfK"
      },
      "outputs": [],
      "source": [
        "# Helper function to get item object by name\n",
        "# Created by Aysegul Yalcinkaya - 100841003 - 02/18/2023 1:00 PM\n",
        "def get_item(item_name):\n",
        "  \n",
        "  if (item_name in store_items):\n",
        "    return store_items[item_name]\n",
        "  else:\n",
        "    return None"
      ]
    },
    {
      "cell_type": "code",
      "execution_count": 8,
      "metadata": {
        "id": "r9gXKX668wq3"
      },
      "outputs": [],
      "source": [
        "# Helper function to print an item\n",
        "# Created by David Ajibola-100735374-02/19/2023 11:00 PM\n",
        "def print_item(item):\n",
        "    print(\"Item Name: \",item.item_name)\n",
        "    print(\"Price: %.2f\" % item.price)\n",
        "    print(\"Stock: \", item.stock)"
      ]
    },
    {
      "cell_type": "markdown",
      "metadata": {
        "id": "N4oL_F0VHFVm"
      },
      "source": [
        "This function is to remove the existing items"
      ]
    },
    {
      "cell_type": "code",
      "execution_count": 9,
      "metadata": {
        "id": "pZU6XfXK9VYu"
      },
      "outputs": [],
      "source": [
        "# This function is used to search item and remove item name, price and stock\n",
        "# If user enter item name  which is not in inventory, system will throw an error\n",
        "# Created by Geetharaman Murugan - 100890042 - 02/20/2023 11:00:00\n",
        "def remove_item():\n",
        "  # Get item name from user\n",
        "  item_name=input(\"Enter Item Name: \")\n",
        "  item=get_item(item_name)\n",
        "  if item:\n",
        "    del store_items[item_name]\n",
        "    return True\n",
        "  else:\n",
        "    print(item_name, \" not found in the store inventory\")\n",
        "    return False"
      ]
    },
    {
      "cell_type": "code",
      "execution_count": 10,
      "metadata": {
        "id": "PnNPfKTIOQ9Q"
      },
      "outputs": [],
      "source": [
        "# This functions displays the menu options\n",
        "# Created by Geetharaman Murugan - 100890042 - 02/20/2023 13:00:00\n",
        "def print_menu():\n",
        "  print(\"|-------- PYTHON ELECTRONICS -----------|\")\n",
        "  print(\"|     1 ADD ITEM                        |\")\n",
        "  print(\"|     2 UPDATE ITEM                     |\")\n",
        "  print(\"|     3 SEARCH ITEM                     |\")\n",
        "  print(\"|     4 REMOVE ITEM                     |\")\n",
        "  print(\"|     5 DISPLAY INVENTORY               |\")\n",
        "  print(\"|     X EXIT                            |\")\n",
        "  print(\"|---------------------------------------|\")\n"
      ]
    },
    {
      "cell_type": "code",
      "execution_count": 11,
      "metadata": {
        "colab": {
          "base_uri": "https://localhost:8080/"
        },
        "id": "byb-YAVyPPLo",
        "outputId": "d5d601fb-81cf-42fc-8b66-87e88a47a25f"
      },
      "outputs": [
        {
          "name": "stdout",
          "output_type": "stream",
          "text": [
            "|-------- PYTHON ELECTRONICS -----------|\n",
            "|     1 ADD ITEM                        |\n",
            "|     2 UPDATE ITEM                     |\n",
            "|     3 SEARCH ITEM                     |\n",
            "|     4 REMOVE ITEM                     |\n",
            "|     5 DISPLAY INVENTORY               |\n",
            "|     X EXIT                            |\n",
            "|---------------------------------------|\n",
            "Select menu option: 5\n",
            "---- PYTHON ELECTRONICS ----\n",
            "Item Name:  Amazon Fire TV 75-inch Omni Series 4K UHD\n",
            "Price: 899.99\n",
            "Stock:  2\n",
            "Item Name:  Apple 2023 MacBook Pro Laptop\n",
            "Price: 2599.99\n",
            "Stock:  10\n",
            "Item Name:  Apple Watch SE (2nd Gen) \n",
            "Price: 329.00\n",
            "Stock:  1\n",
            "Item Name:  Asus TUF Gaming H3 Wired Headset \n",
            "Price: 19.99\n",
            "Stock:  7\n",
            "Item Name:  HP DeskJet 2755e All-in-One Printer\n",
            "Price: 64.98\n",
            "Stock:  6\n",
            "Item Name:  Mini Projector, AKIYO\n",
            "Price: 99.99\n",
            "Stock:  4\n",
            "Item Name:  Samsung Galaxy A14 5G Black 64GB\n",
            "Price: 349.99\n",
            "Stock:  12\n",
            "Item Name:  Samsung Galaxy S23 5G Black 128GB\n",
            "Price: 1099.99\n",
            "Stock:  2\n",
            "Item Name:  Samsung Galaxy Tab S6 Lite\n",
            "Price: 329.99\n",
            "Stock:  8\n",
            "Item Name:  Samsung T350 Series 22-Inch FHD 1080p Computer Monitor\n",
            "Price: 169.99\n",
            "Stock:  1\n",
            "|-------- PYTHON ELECTRONICS -----------|\n",
            "|     1 ADD ITEM                        |\n",
            "|     2 UPDATE ITEM                     |\n",
            "|     3 SEARCH ITEM                     |\n",
            "|     4 REMOVE ITEM                     |\n",
            "|     5 DISPLAY INVENTORY               |\n",
            "|     X EXIT                            |\n",
            "|---------------------------------------|\n",
            "Select menu option: X\n"
          ]
        }
      ],
      "source": [
        "# store_items dictionary will be used to \n",
        "# It is initialized with the default items when application starts\n",
        "store_items=init_items()\n",
        "\n",
        "print_menu()\n",
        "\n",
        "# Application will run and display the menu items as long as \"x\" is not selected\n",
        "# All exceptions raised in the functions will be handled in while loop\n",
        "while True:\n",
        "  try:\n",
        "    choice=input(\"Select menu option: \")\n",
        "    if choice==\"1\":\n",
        "      add_item()\n",
        "      print(\"Item added to store inventory\")\n",
        "    elif choice==\"2\":\n",
        "      result=update_item()\n",
        "      if result:\n",
        "        print(\"Item is updated\")\n",
        "    elif choice==\"3\":\n",
        "      search_item()\n",
        "    elif choice==\"4\":\n",
        "      result=remove_item()\n",
        "      if result:\n",
        "        print(\"Item removed from store inventory\")\n",
        "    elif choice==\"5\":\n",
        "      display_inventory()\n",
        "    elif choice.lower()==\"x\":\n",
        "      break\n",
        "    else: \n",
        "      print(\"INVALID INPUT!\")\n",
        "    print_menu()\n",
        "  except ValueError:\n",
        "    print(\"Invalid value entered\")\n",
        "  except:\n",
        "    print(\"Something else went wrong\")"
      ]
    }
  ],
  "metadata": {
    "colab": {
      "provenance": [],
      "include_colab_link": true
    },
    "kernelspec": {
      "display_name": "Python 3",
      "name": "python3"
    },
    "language_info": {
      "name": "python"
    }
  },
  "nbformat": 4,
  "nbformat_minor": 0
}